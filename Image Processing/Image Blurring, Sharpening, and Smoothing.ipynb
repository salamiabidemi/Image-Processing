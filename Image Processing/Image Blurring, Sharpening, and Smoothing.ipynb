{
 "cells": [
  {
   "cell_type": "markdown",
   "id": "e7c883e4",
   "metadata": {},
   "source": [
    "# Image Blurring, Sharpening, and Smoothing"
   ]
  },
  {
   "cell_type": "code",
   "execution_count": 2,
   "id": "b1b24a7d",
   "metadata": {},
   "outputs": [],
   "source": [
    "from PIL import Image, ImageFilter\n",
    "filename = \"buildings.jpg\"\n",
    "with Image.open(filename) as img:\n",
    "    img.load()\n"
   ]
  },
  {
   "cell_type": "code",
   "execution_count": 3,
   "id": "a3059dfe",
   "metadata": {},
   "outputs": [],
   "source": [
    "#blur the image using the predefined ImageFilter\n",
    "blur_img = img.filter(ImageFilter.BLUR)\n",
    "blur_img.show()"
   ]
  },
  {
   "cell_type": "code",
   "execution_count": 4,
   "id": "52f4133c",
   "metadata": {},
   "outputs": [],
   "source": [
    "img.crop((300, 300, 500, 500)).show()\n",
    "blur_img.crop((300, 300, 500, 500)).show()"
   ]
  },
  {
   "cell_type": "code",
   "execution_count": 5,
   "id": "33a660a7",
   "metadata": {},
   "outputs": [],
   "source": [
    "#customize the type and amount of blurring that you need using ImageFilter.BoxBlur() or ImageFilter.GaussianBlur():\n",
    "img.filter(ImageFilter.BoxBlur(5)).show()\n",
    "img.filter(ImageFilter.BoxBlur(20)).show()\n",
    "img.filter(ImageFilter.GaussianBlur(20)).show()"
   ]
  },
  {
   "cell_type": "code",
   "execution_count": 6,
   "id": "d0592229",
   "metadata": {},
   "outputs": [],
   "source": [
    "#Now use the ImageFilter.SHARPEN filter and compare the result with the original image:\n",
    "sharp_img = img.filter(ImageFilter.SHARPEN)\n",
    "img.crop((300, 300, 500, 500)).show()\n",
    "sharp_img.crop((300, 300, 500, 500)).show()"
   ]
  },
  {
   "cell_type": "code",
   "execution_count": 7,
   "id": "10bf2aa8",
   "metadata": {},
   "outputs": [],
   "source": [
    "#You can achieve smoothing by passing ImageFilter.SMOOTH as an argument for .filter():\n",
    "smooth_img = img.filter(ImageFilter.SMOOTH)\n",
    "img.crop((300, 300, 500, 500)).show()\n",
    "smooth_img.crop((300, 300, 500, 500)).show()"
   ]
  },
  {
   "cell_type": "markdown",
   "id": "640b447e",
   "metadata": {},
   "source": [
    "# Edge Detection, Edge Enhancement, and Embossing\n"
   ]
  },
  {
   "cell_type": "code",
   "execution_count": 12,
   "id": "965bceea",
   "metadata": {},
   "outputs": [],
   "source": [
    "img_gray = img.convert(\"L\")\n",
    "edges = img_gray.filter(ImageFilter.FIND_EDGES)\n",
    "edges.show()"
   ]
  },
  {
   "cell_type": "code",
   "execution_count": 13,
   "id": "16260e3b",
   "metadata": {},
   "outputs": [],
   "source": [
    "#obtain a better outcome by applying the ImageFilter.SMOOTH filter before finding the edges:\n",
    "img_gray_smooth = img_gray.filter(ImageFilter.SMOOTH)\n",
    "edges_smooth = img_gray_smooth.filter(ImageFilter.FIND_EDGES)\n",
    "edges_smooth.show()"
   ]
  },
  {
   "cell_type": "code",
   "execution_count": 14,
   "id": "48d80f94",
   "metadata": {},
   "outputs": [],
   "source": [
    "edge_enhance = img_gray_smooth.filter(ImageFilter.EDGE_ENHANCE)\n",
    "edge_enhance.show()"
   ]
  },
  {
   "cell_type": "code",
   "execution_count": 15,
   "id": "9da827be",
   "metadata": {},
   "outputs": [],
   "source": [
    "emboss = img_gray_smooth.filter(ImageFilter.EMBOSS)\n",
    "emboss.show()"
   ]
  },
  {
   "cell_type": "code",
   "execution_count": null,
   "id": "733f4008",
   "metadata": {},
   "outputs": [],
   "source": []
  }
 ],
 "metadata": {
  "kernelspec": {
   "display_name": "Python 3 (ipykernel)",
   "language": "python",
   "name": "python3"
  },
  "language_info": {
   "codemirror_mode": {
    "name": "ipython",
    "version": 3
   },
   "file_extension": ".py",
   "mimetype": "text/x-python",
   "name": "python",
   "nbconvert_exporter": "python",
   "pygments_lexer": "ipython3",
   "version": "3.9.12"
  }
 },
 "nbformat": 4,
 "nbformat_minor": 5
}

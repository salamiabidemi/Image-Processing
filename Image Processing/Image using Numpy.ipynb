{
 "cells": [
  {
   "cell_type": "markdown",
   "id": "c6e7a1db",
   "metadata": {},
   "source": [
    "# Using NumPy to Subtract Images From Each Other"
   ]
  },
  {
   "cell_type": "code",
   "execution_count": 1,
   "id": "b3ba1791",
   "metadata": {},
   "outputs": [],
   "source": [
    "import numpy as np\n",
    "from PIL import Image\n",
    "with Image.open(\"house_left.jpg\") as left:\n",
    "    left.load()\n",
    "with Image.open(\"house_right.jpg\") as right:\n",
    "    right.load()\n",
    "left_array = np.asarray(left)\n",
    "right_array = np.asarray(right)"
   ]
  },
  {
   "cell_type": "code",
   "execution_count": 2,
   "id": "06e4a65c",
   "metadata": {},
   "outputs": [
    {
     "data": {
      "text/plain": [
       "numpy.ndarray"
      ]
     },
     "execution_count": 2,
     "metadata": {},
     "output_type": "execute_result"
    }
   ],
   "source": [
    "type(left_array)"
   ]
  },
  {
   "cell_type": "code",
   "execution_count": 3,
   "id": "a89edd3e",
   "metadata": {},
   "outputs": [
    {
     "data": {
      "text/plain": [
       "numpy.ndarray"
      ]
     },
     "execution_count": 3,
     "metadata": {},
     "output_type": "execute_result"
    }
   ],
   "source": [
    "type(right_array)"
   ]
  },
  {
   "cell_type": "code",
   "execution_count": 4,
   "id": "9ed39b75",
   "metadata": {},
   "outputs": [
    {
     "data": {
      "text/plain": [
       "numpy.ndarray"
      ]
     },
     "execution_count": 4,
     "metadata": {},
     "output_type": "execute_result"
    }
   ],
   "source": [
    "difference_array =  right_array - left_array\n",
    "type(difference_array)"
   ]
  },
  {
   "cell_type": "code",
   "execution_count": 5,
   "id": "6ab2310a",
   "metadata": {},
   "outputs": [],
   "source": [
    "difference = Image.fromarray(difference_array)\n",
    "difference.show()"
   ]
  },
  {
   "cell_type": "code",
   "execution_count": 6,
   "id": "2b1cb874",
   "metadata": {},
   "outputs": [],
   "source": [
    "#Using NumPy to Create Images"
   ]
  },
  {
   "cell_type": "code",
   "execution_count": 18,
   "id": "039627d8",
   "metadata": {},
   "outputs": [],
   "source": [
    "import numpy as np\n",
    "from PIL import Image\n",
    "\n",
    "square = np.zeros((600, 600))\n",
    "square[200:400, 200:400] = 255\n",
    "\n",
    "square_img = Image.fromarray(square)\n",
    "square_img\n",
    "square_img.show()"
   ]
  },
  {
   "cell_type": "code",
   "execution_count": 13,
   "id": "8edca054",
   "metadata": {},
   "outputs": [],
   "source": [
    "square_img = square_img.convert(\"L\")"
   ]
  },
  {
   "cell_type": "code",
   "execution_count": 14,
   "id": "b04afec7",
   "metadata": {},
   "outputs": [],
   "source": [
    "red = np.zeros((600, 600))\n",
    "green = np.zeros((600, 600))\n",
    "blue = np.zeros((600, 600))\n",
    "red[150:350, 150:350] = 255\n",
    "green[200:400, 200:400] = 255\n",
    "blue[250:450, 250:450] = 255\n",
    "\n",
    "red_img = Image.fromarray(red).convert(\"L\")\n",
    "green_img = Image.fromarray(green).convert(\"L\")\n",
    "blue_img = Image.fromarray((blue)).convert(\"L\")"
   ]
  },
  {
   "cell_type": "code",
   "execution_count": 15,
   "id": "ba4fe710",
   "metadata": {},
   "outputs": [
    {
     "data": {
      "image/png": "[encoded data removed]",
      "text/plain": [
       "<PIL.Image.Image image mode=RGB size=600x600 at 0x2000A2EDC10>"
      ]
     },
     "execution_count": 15,
     "metadata": {},
     "output_type": "execute_result"
    }
   ],
   "source": [
    "square_img = Image.merge(\"RGB\", (red_img, green_img, blue_img))\n",
    "square_img"
   ]
  },
  {
   "cell_type": "code",
   "execution_count": 16,
   "id": "21dfe478",
   "metadata": {},
   "outputs": [],
   "source": [
    "square_img.show()"
   ]
  },
  {
   "cell_type": "code",
   "execution_count": 20,
   "id": "61f9bc99",
   "metadata": {},
   "outputs": [],
   "source": [
    "#Creating Animations"
   ]
  },
  {
   "cell_type": "code",
   "execution_count": 21,
   "id": "bd1634b8",
   "metadata": {},
   "outputs": [],
   "source": [
    "import numpy as np\n",
    "from PIL import Image"
   ]
  },
  {
   "cell_type": "code",
   "execution_count": 22,
   "id": "efcb0281",
   "metadata": {},
   "outputs": [],
   "source": [
    "square_animation = []\n",
    "for offset in range(0, 100, 2):\n",
    "    red = np.zeros((600, 600))\n",
    "    green = np.zeros((600, 600))\n",
    "    blue = np.zeros((600, 600))\n",
    "    red[101 + offset : 301 + offset, 101 + offset : 301 + offset] = 255\n",
    "    green[200:400, 200:400] = 255\n",
    "    blue[299 - offset : 499 - offset, 299 - offset : 499 - offset] = 255\n",
    "    red_img = Image.fromarray(red).convert(\"L\")\n",
    "    green_img = Image.fromarray(green).convert(\"L\")\n",
    "    blue_img = Image.fromarray((blue)).convert(\"L\")\n",
    "    square_animation.append(\n",
    "        Image.merge(\n",
    "            \"RGB\",\n",
    "            (red_img, green_img, blue_img)\n",
    "        )\n",
    "    )\n"
   ]
  },
  {
   "cell_type": "code",
   "execution_count": 23,
   "id": "2f45cb9d",
   "metadata": {},
   "outputs": [],
   "source": [
    "square_animation[0].save(\n",
    "    \"animation.gif\", save_all=True, append_images=square_animation[1:]\n",
    ")"
   ]
  },
  {
   "cell_type": "code",
   "execution_count": null,
   "id": "65b25c33",
   "metadata": {},
   "outputs": [],
   "source": []
  }
 ],
 "metadata": {
  "kernelspec": {
   "display_name": "Python 3 (ipykernel)",
   "language": "python",
   "name": "python3"
  },
  "language_info": {
   "codemirror_mode": {
    "name": "ipython",
    "version": 3
   },
   "file_extension": ".py",
   "mimetype": "text/x-python",
   "name": "python",
   "nbconvert_exporter": "python",
   "pygments_lexer": "ipython3",
   "version": "3.9.12"
  }
 },
 "nbformat": 4,
 "nbformat_minor": 5
}

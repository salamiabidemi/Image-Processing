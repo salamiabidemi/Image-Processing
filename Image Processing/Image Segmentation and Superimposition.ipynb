{
 "cells": [
  {
   "cell_type": "markdown",
   "id": "8fa20f06",
   "metadata": {},
   "source": [
    "# Image Segmentation and Superimposition"
   ]
  },
  {
   "cell_type": "code",
   "execution_count": 2,
   "id": "db8cca3e",
   "metadata": {},
   "outputs": [],
   "source": [
    "from PIL import Image\n",
    "filename_cat = \"cat.jpg\"\n",
    "with Image.open(filename_cat) as img_cat:\n",
    "    img_cat.load()\n",
    "img_cat = img_cat.crop((800, 0, 1650, 1281))\n",
    "img_cat.show()"
   ]
  },
  {
   "cell_type": "code",
   "execution_count": 3,
   "id": "653b60a6",
   "metadata": {},
   "outputs": [],
   "source": [
    "img_cat_gray = img_cat.convert(\"L\")\n",
    "img_cat_gray.show()\n",
    "threshold = 100\n",
    "img_cat_threshold = img_cat_gray.point(\n",
    "    lambda x: 255 if x > threshold else 0\n",
    ")\n",
    "img_cat_threshold.show()"
   ]
  },
  {
   "cell_type": "code",
   "execution_count": 4,
   "id": "63aa01e4",
   "metadata": {},
   "outputs": [],
   "source": [
    "red, green, blue = img_cat.split()\n",
    "red.show()\n",
    "green.show()\n",
    "blue.show()"
   ]
  },
  {
   "cell_type": "code",
   "execution_count": 44,
   "id": "c0b51808",
   "metadata": {},
   "outputs": [],
   "source": [
    "threshold = 85\n",
    "img_cat_threshold = blue.point(lambda x: 255 if x > threshold else 0)\n",
    "img_cat_threshold = img_cat_threshold.convert(\"1\")\n",
    "img_cat_threshold.show()"
   ]
  },
  {
   "cell_type": "markdown",
   "id": "f1ff9df4",
   "metadata": {},
   "source": [
    "# Erosion and Dilation"
   ]
  },
  {
   "cell_type": "code",
   "execution_count": 45,
   "id": "2c349a76",
   "metadata": {},
   "outputs": [],
   "source": [
    "#Erosion is the process of removing white pixels from the boundaries in an image. "
   ]
  },
  {
   "cell_type": "code",
   "execution_count": 46,
   "id": "cdcdf210",
   "metadata": {},
   "outputs": [],
   "source": [
    "from PIL import ImageFilter\n",
    "filename = \"dot_and_hole.jpg\""
   ]
  },
  {
   "cell_type": "code",
   "execution_count": 47,
   "id": "1b367c1d",
   "metadata": {},
   "outputs": [],
   "source": [
    "with Image.open(filename) as img:\n",
    "    img.load()\n",
    "for _ in range(3):\n",
    "    img = img.filter(ImageFilter.MinFilter(3))\n",
    "img.show()"
   ]
  },
  {
   "cell_type": "code",
   "execution_count": 48,
   "id": "cd91ea70",
   "metadata": {},
   "outputs": [],
   "source": [
    "#Dilation is the opposite process to erosion. White pixels are added to the boundaries in a binary image."
   ]
  },
  {
   "cell_type": "code",
   "execution_count": 49,
   "id": "4c77f4f0",
   "metadata": {},
   "outputs": [],
   "source": [
    "with Image.open(filename) as img:\n",
    "    img.load()\n",
    "for _ in range(3):\n",
    "    img = img.filter(ImageFilter.MaxFilter(3))\n",
    "    \n",
    "img.show()"
   ]
  },
  {
   "cell_type": "code",
   "execution_count": 50,
   "id": "59205337",
   "metadata": {},
   "outputs": [],
   "source": [
    "#Now use erosion and dilation together to fill in holes and remove small objects from a binary image\n",
    "with Image.open(filename) as img:\n",
    "    img.load()\n",
    "    \n",
    "for _ in range(10):\n",
    "    img = img.filter(ImageFilter.MinFilter(3))\n",
    "img.show()\n",
    "for _ in range(10):\n",
    "    img = img.filter(ImageFilter.MaxFilter(3))\n",
    "img.show()"
   ]
  },
  {
   "cell_type": "code",
   "execution_count": 51,
   "id": "e674b3c2",
   "metadata": {},
   "outputs": [],
   "source": [
    "def erode(cycles, image):\n",
    "    for _ in range(cycles):\n",
    "        image = image.filter(ImageFilter.MaxFilter(3))\n",
    "    return image\n",
    "def dilate(cycles, image):\n",
    "    for _ in range(cycles):\n",
    "        image = image.filter(ImageFilter.MaxFilter(3))\n",
    "    return image"
   ]
  },
  {
   "cell_type": "code",
   "execution_count": 52,
   "id": "b810479a",
   "metadata": {},
   "outputs": [],
   "source": [
    "# Image Segmentation Using Thresholding"
   ]
  },
  {
   "cell_type": "code",
   "execution_count": 84,
   "id": "1812907c",
   "metadata": {},
   "outputs": [],
   "source": [
    "step_1 = erode(1, img_cat_threshold)\n",
    "step_1.show()"
   ]
  },
  {
   "cell_type": "code",
   "execution_count": 89,
   "id": "8c88e07f",
   "metadata": {},
   "outputs": [],
   "source": [
    "step_2 = dilate(5, step_1)\n",
    "step_2.show()"
   ]
  },
  {
   "cell_type": "code",
   "execution_count": 90,
   "id": "7327666b",
   "metadata": {},
   "outputs": [],
   "source": [
    "cat_mask = erode(1, step_2)\n",
    "cat_mask.show()"
   ]
  },
  {
   "cell_type": "code",
   "execution_count": 91,
   "id": "1c5033ea",
   "metadata": {},
   "outputs": [],
   "source": [
    "cat_mask = cat_mask.convert(\"L\")\n",
    "cat_mask = cat_mask.filter(ImageFilter.BoxBlur(2))\n",
    "cat_mask.show()"
   ]
  },
  {
   "cell_type": "code",
   "execution_count": 92,
   "id": "7b4d80cb",
   "metadata": {},
   "outputs": [],
   "source": [
    "blank = img_cat.point(lambda _: 0)\n",
    "cat_segmented = Image.composite(img_cat, blank, cat_mask)\n",
    "cat_segmented.show()"
   ]
  },
  {
   "cell_type": "code",
   "execution_count": 93,
   "id": "e366fffc",
   "metadata": {},
   "outputs": [],
   "source": [
    "filename_monastery = \"monastery.jpg\"\n",
    "with Image.open(filename_monastery) as img_monastery:\n",
    "    img_monastery.load()\n",
    "img_monastery.paste(\n",
    "    img_cat.resize((img_cat.width // 5, img_cat.height // 5)),\n",
    "    (1300, 750),\n",
    "    cat_mask.resize((cat_mask.width // 5, cat_mask.height // 5)),\n",
    ")"
   ]
  },
  {
   "cell_type": "code",
   "execution_count": 94,
   "id": "9a5a7b14",
   "metadata": {},
   "outputs": [],
   "source": [
    "img_monastery.show()"
   ]
  },
  {
   "cell_type": "code",
   "execution_count": null,
   "id": "5fcc2e1b",
   "metadata": {},
   "outputs": [],
   "source": []
  }
 ],
 "metadata": {
  "kernelspec": {
   "display_name": "Python 3 (ipykernel)",
   "language": "python",
   "name": "python3"
  },
  "language_info": {
   "codemirror_mode": {
    "name": "ipython",
    "version": 3
   },
   "file_extension": ".py",
   "mimetype": "text/x-python",
   "name": "python",
   "nbconvert_exporter": "python",
   "pygments_lexer": "ipython3",
   "version": "3.9.12"
  }
 },
 "nbformat": 4,
 "nbformat_minor": 5
}
